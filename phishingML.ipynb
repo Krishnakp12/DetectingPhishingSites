{
 "cells": [
  {
   "cell_type": "code",
   "execution_count": 6,
   "metadata": {},
   "outputs": [],
   "source": [
    "#importing libraries\n",
    "import numpy as np\n",
    "import matplotlib.pyplot as plt\n",
    "import pandas as pd\n",
    "import time\n",
    "import seaborn as sb\n",
    "\n",
    "#Setting the size of the plot\n",
    "plt.rcParams['figure.figsize'] = 9,9"
   ]
  },
  {
   "cell_type": "code",
   "execution_count": 7,
   "metadata": {},
   "outputs": [
    {
     "data": {
      "text/plain": [
       "<seaborn.axisgrid.FacetGrid at 0x22b6450b190>"
      ]
     },
     "execution_count": 7,
     "metadata": {},
     "output_type": "execute_result"
    },
    {
     "data": {
      "image/png": "[encoded data removed]",
      "text/plain": [
       "<Figure size 426.875x360 with 1 Axes>"
      ]
     },
     "metadata": {
      "needs_background": "light"
     },
     "output_type": "display_data"
    }
   ],
   "source": [
    "df1= pd.read_csv('C:/Users/krish/Desktop/infosecurityproject/phishcoop.csv')\n",
    "df2= df1[['Result']]\n",
    "sb.displot(df2)"
   ]
  },
  {
   "cell_type": "code",
   "execution_count": 8,
   "metadata": {},
   "outputs": [],
   "source": [
    "#importing the dataset\n",
    "dataset = pd.read_csv('C:/Users/krish/Desktop/infosecurityproject/phishcoop.csv')\n",
    "dataset = dataset.drop('id', 1) #removing unwanted column\n",
    "x = dataset.iloc[ : , :-1].values\n",
    "y = dataset.iloc[:, -1].values\n"
   ]
  },
  {
   "cell_type": "code",
   "execution_count": 13,
   "metadata": {},
   "outputs": [],
   "source": [
    "#spliting the dataset into training set and test set\n",
    "from sklearn.model_selection import train_test_split\n",
    "x_train, x_test, y_train, y_test = train_test_split(x,y,test_size = 0.6, random_state = 0)\n"
   ]
  },
  {
   "cell_type": "markdown",
   "metadata": {},
   "source": [
    "# Logistic Regression"
   ]
  },
  {
   "cell_type": "code",
   "execution_count": 14,
   "metadata": {},
   "outputs": [],
   "source": [
    "#Importing library for logistic regression\n",
    "from sklearn.linear_model import LogisticRegression\n",
    "\n",
    "begin = time.time()\n",
    "\n",
    "#fitting logistic regression \n",
    "classifier = LogisticRegression(random_state = 0)\n",
    "classifier.fit(x_train, y_train)\n",
    "\n",
    "#predicting the tests set result\n",
    "y_pred = classifier.predict(x_test)\n",
    "\n",
    "end = time.time()"
   ]
  },
  {
   "cell_type": "code",
   "execution_count": 15,
   "metadata": {},
   "outputs": [
    {
     "name": "stdout",
     "output_type": "stream",
     "text": [
      "URLs in the test set: 6633\n",
      "Phishing URLs: 2830\n",
      "Non-phishing URLs: 3803\n"
     ]
    }
   ],
   "source": [
    "#Output\n",
    "print(\"URLs in the test set:\",len(y_pred))\n",
    "print(\"Phishing URLs:\",len(y_pred[y_pred==-1]))\n",
    "print(\"Non-phishing URLs:\",len(y_pred[y_pred==1]))\n"
   ]
  },
  {
   "cell_type": "code",
   "execution_count": 16,
   "metadata": {},
   "outputs": [
    {
     "name": "stdout",
     "output_type": "stream",
     "text": [
      "Accuracy: 92.78 %\n",
      "Recall Measure: 94.92 %\n",
      "Precision Score: 92.35 %\n",
      "F-Measure: 93.62 %\n",
      "\n",
      "Execution time: 0.0330 sec\n"
     ]
    }
   ],
   "source": [
    "#Metrics\n",
    "#Accuracy\n",
    "from sklearn.metrics import accuracy_score\n",
    "print(\"Accuracy: \",end =\"\")\n",
    "print (\"{0:.2f}\".format(accuracy_score(y_test,y_pred)*100),\"%\")\n",
    "\n",
    "#Recall\n",
    "from sklearn.metrics import recall_score\n",
    "print(\"Recall Measure: \",end =\"\")\n",
    "print (\"{0:.2f}\".format(recall_score(y_test,y_pred)*100),\"%\")\n",
    "\n",
    "#Precision Score\n",
    "from sklearn.metrics import precision_score\n",
    "print(\"Precision Score: \",end =\"\")\n",
    "print (\"{0:.2f}\".format(precision_score(y_test,y_pred)*100),\"%\")\n",
    "\n",
    "#F-measure\n",
    "from sklearn.metrics import f1_score\n",
    "print(\"F-Measure: \",end =\"\")\n",
    "print (\"{0:.2f}\".format(f1_score(y_test,y_pred)*100),\"%\")\n",
    "\n",
    "#Execution time of training and testing model\n",
    "print()\n",
    "print(\"Execution time: \",end =\"\")\n",
    "print (\"{0:.4f}\".format(end - begin),\"sec\")\n"
   ]
  },
  {
   "cell_type": "code",
   "execution_count": 17,
   "metadata": {},
   "outputs": [
    {
     "data": {
      "image/png": "[encoded data removed]",
      "text/plain": [
       "<Figure size 648x648 with 2 Axes>"
      ]
     },
     "metadata": {
      "needs_background": "light"
     },
     "output_type": "display_data"
    }
   ],
   "source": [
    "#confusion matrix\n",
    "class_names=[\"Yes\",\"No\"] # name  of classes\n",
    "from sklearn.metrics import plot_confusion_matrix\n",
    "graph=plot_confusion_matrix(classifier, x_test, y_test,display_labels=class_names,cmap=plt.cm.Blues)\n",
    "\n",
    "plt.title('Confusion matrix - Logistic Regression', y=1.1)\n",
    "plt.ylabel('Actual label')\n",
    "plt.xlabel('Predicted label')\n",
    "plt.show()"
   ]
  },
  {
   "cell_type": "code",
   "execution_count": null,
   "metadata": {},
   "outputs": [],
   "source": []
  },
  {
   "cell_type": "markdown",
   "metadata": {},
   "source": [
    "#SUPPORT VECTOR MACHINE"
   ]
  },
  {
   "cell_type": "code",
   "execution_count": 30,
   "metadata": {},
   "outputs": [],
   "source": [
    "#Importing library for SVM\n",
    "from sklearn.svm import SVC\n",
    "\n",
    "begin = time.time()\n",
    "\n",
    "#fitting kernel SVM \n",
    "classifier1 = SVC(C=1000, kernel = 'rbf', gamma = 0.15 , random_state = 0)\n",
    "classifier1.fit(x_train, y_train)\n",
    "\n",
    "#predicting the tests set result\n",
    "y_pred1 = classifier1.predict(x_test)\n",
    "\n",
    "end = time.time()"
   ]
  },
  {
   "cell_type": "code",
   "execution_count": 31,
   "metadata": {},
   "outputs": [
    {
     "name": "stdout",
     "output_type": "stream",
     "text": [
      "URLs in the test set: 6633\n",
      "Phishing URLs: 2869\n",
      "Non-phishing URLs: 3764\n"
     ]
    }
   ],
   "source": [
    "#Output\n",
    "print(\"URLs in the test set:\",len(y_pred1))\n",
    "print(\"Phishing URLs:\",len(y_pred1[y_pred1==-1]))\n",
    "print(\"Non-phishing URLs:\",len(y_pred1[y_pred1==1]))"
   ]
  },
  {
   "cell_type": "code",
   "execution_count": 32,
   "metadata": {},
   "outputs": [
    {
     "name": "stdout",
     "output_type": "stream",
     "text": [
      "Accuracy: 95.63 %\n",
      "Recall Measure: 96.95 %\n",
      "Precision Score: 95.30 %\n",
      "F-Measure: 96.11 %\n",
      "\n",
      "Execution time: 0.6393 sec\n"
     ]
    }
   ],
   "source": [
    "#Metrics\n",
    "#Accuracy\n",
    "print(\"Accuracy: \",end =\"\")\n",
    "print (\"{0:.2f}\".format(accuracy_score(y_test,y_pred1)*100),\"%\")\n",
    "\n",
    "#Recall\n",
    "print(\"Recall Measure: \",end =\"\")\n",
    "print (\"{0:.2f}\".format(recall_score(y_test,y_pred1)*100),\"%\")\n",
    "\n",
    "#Precision Score\n",
    "print(\"Precision Score: \",end =\"\")\n",
    "print (\"{0:.2f}\".format(precision_score(y_test,y_pred1)*100),\"%\")\n",
    "\n",
    "#F-measure\n",
    "print(\"F-Measure: \",end =\"\")\n",
    "print (\"{0:.2f}\".format(f1_score(y_test,y_pred1)*100),\"%\")\n",
    "\n",
    "#Execution time of training and testing model\n",
    "print()\n",
    "print(\"Execution time: \",end =\"\")\n",
    "print (\"{0:.4f}\".format(end - begin),\"sec\")\n"
   ]
  },
  {
   "cell_type": "code",
   "execution_count": 33,
   "metadata": {},
   "outputs": [
    {
     "data": {
      "image/png": "[encoded data removed]",
      "text/plain": [
       "<Figure size 648x648 with 2 Axes>"
      ]
     },
     "metadata": {
      "needs_background": "light"
     },
     "output_type": "display_data"
    }
   ],
   "source": [
    "#confusion matrix\n",
    "graph = plot_confusion_matrix(classifier1, x_test, y_test,display_labels = class_names,cmap=plt.cm.Blues)\n",
    "\n",
    "plt.title('Confusion matrix - SVM', y=1.1)\n",
    "plt.ylabel('Actual label')\n",
    "plt.xlabel('Predicted label')\n",
    "plt.show()\n",
    "\n"
   ]
  },
  {
   "cell_type": "code",
   "execution_count": null,
   "metadata": {},
   "outputs": [],
   "source": []
  },
  {
   "cell_type": "markdown",
   "metadata": {},
   "source": [
    "RANDOM FOREST CLASSIFIER"
   ]
  },
  {
   "cell_type": "code",
   "execution_count": 34,
   "metadata": {},
   "outputs": [],
   "source": [
    "#Importing library for Random Tree\n",
    "from sklearn.ensemble import RandomForestClassifier\n",
    "\n",
    "begin = time.time()\n",
    "\n",
    "#fitting RandomForest classification\n",
    "classifier2 = RandomForestClassifier(n_estimators = 100, criterion = \"gini\", max_features = 'log2',  random_state = 0)\n",
    "classifier2.fit(x_train, y_train)\n",
    "\n",
    "#predicting the tests set result\n",
    "y_pred2 = classifier2.predict(x_test)\n",
    "\n",
    "end = time.time()"
   ]
  },
  {
   "cell_type": "code",
   "execution_count": 35,
   "metadata": {},
   "outputs": [
    {
     "name": "stdout",
     "output_type": "stream",
     "text": [
      "URLs in the test set: 6633\n",
      "Phishing URLs: 2849\n",
      "Non-phishing URLs: 3784\n"
     ]
    }
   ],
   "source": [
    "#Output\n",
    "print(\"URLs in the test set:\",len(y_pred2))\n",
    "print(\"Phishing URLs:\",len(y_pred2[y_pred2==-1]))\n",
    "print(\"Non-phishing URLs:\",len(y_pred2[y_pred2==1]))\n"
   ]
  },
  {
   "cell_type": "code",
   "execution_count": 36,
   "metadata": {},
   "outputs": [
    {
     "name": "stdout",
     "output_type": "stream",
     "text": [
      "Accuracy: 96.74 %\n",
      "Recall Measure: 98.22 %\n",
      "Precision Score: 96.04 %\n",
      "F-Measure: 97.11 %\n",
      "\n",
      "Execution time: 0.2942 sec\n"
     ]
    }
   ],
   "source": [
    "#Metrics\n",
    "#Accuracy\n",
    "print(\"Accuracy: \",end =\"\")\n",
    "print (\"{0:.2f}\".format(accuracy_score(y_test,y_pred2)*100),\"%\")\n",
    "\n",
    "#Recall\n",
    "print(\"Recall Measure: \",end =\"\")\n",
    "print (\"{0:.2f}\".format(recall_score(y_test,y_pred2)*100),\"%\")\n",
    "\n",
    "#Precision Score\n",
    "print(\"Precision Score: \",end =\"\")\n",
    "print (\"{0:.2f}\".format(precision_score(y_test,y_pred2)*100),\"%\")\n",
    "\n",
    "#F-measure\n",
    "print(\"F-Measure: \",end =\"\")\n",
    "print (\"{0:.2f}\".format(f1_score(y_test,y_pred2)*100),\"%\")\n",
    "\n",
    "#Execution time of training and testing model\n",
    "print()\n",
    "print(\"Execution time: \",end =\"\")\n",
    "print (\"{0:.4f}\".format(end - begin),\"sec\")"
   ]
  },
  {
   "cell_type": "code",
   "execution_count": 37,
   "metadata": {},
   "outputs": [
    {
     "data": {
      "image/png": "[encoded data removed]",
      "text/plain": [
       "<Figure size 648x648 with 2 Axes>"
      ]
     },
     "metadata": {
      "needs_background": "light"
     },
     "output_type": "display_data"
    }
   ],
   "source": [
    "#confusion matrix\n",
    "graph=plot_confusion_matrix(classifier2, x_test, y_test,display_labels=class_names,cmap=plt.cm.Blues)\n",
    "\n",
    "plt.title('Confusion matrix - Random Forest', y=1.1)\n",
    "plt.ylabel('Actual label')\n",
    "plt.xlabel('Predicted label')\n",
    "plt.show()"
   ]
  },
  {
   "cell_type": "code",
   "execution_count": null,
   "metadata": {},
   "outputs": [],
   "source": []
  }
 ],
 "metadata": {
  "kernelspec": {
   "display_name": "Python 3",
   "language": "python",
   "name": "python3"
  },
  "language_info": {
   "codemirror_mode": {
    "name": "ipython",
    "version": 3
   },
   "file_extension": ".py",
   "mimetype": "text/x-python",
   "name": "python",
   "nbconvert_exporter": "python",
   "pygments_lexer": "ipython3",
   "version": "3.8.8"
  }
 },
 "nbformat": 4,
 "nbformat_minor": 4
}
